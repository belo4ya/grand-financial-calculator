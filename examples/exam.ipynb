{
 "cells": [
  {
   "cell_type": "code",
   "execution_count": 1,
   "metadata": {},
   "outputs": [],
   "source": [
    "from __future__ import annotations\n",
    "\n",
    "import sympy as sp\n",
    "from IPython.display import Markdown\n",
    "import numpy as np"
   ]
  },
  {
   "cell_type": "code",
   "execution_count": 2,
   "metadata": {
    "pycharm": {
     "name": "#%%\n"
    }
   },
   "outputs": [],
   "source": [
    "from dataclasses import dataclass\n",
    "\n",
    "\n",
    "@dataclass\n",
    "class Stock:\n",
    "    mu: float | sp.Symbol = sp.Symbol('mu')  # доходность\n",
    "    sigma: float | sp.Symbol = sp.Symbol('sigma')  # риск\n",
    "    x: float | sp.Symbol = sp.Symbol('x')  # вес"
   ]
  },
  {
   "cell_type": "markdown",
   "metadata": {
    "pycharm": {
     "name": "#%% md\n"
    }
   },
   "source": [
    "# Билет 18"
   ]
  },
  {
   "cell_type": "markdown",
   "metadata": {},
   "source": [
    "### Задание 2\n",
    "\n",
    "Рыночная цена 20-ти процентной облигации номиналом 3500 руб. за два года до погашения равна 4300 руб. Найти текущую стоимость облигации при процентной ставке: а) 14%, б) 20%, в) 23% и ее курс."
   ]
  },
  {
   "cell_type": "code",
   "execution_count": 3,
   "metadata": {
    "pycharm": {
     "name": "#%%\n"
    }
   },
   "outputs": [],
   "source": [
    "# 105\n",
    "c = 0.2\n",
    "N = 3500\n",
    "n = 2\n",
    "V = 4300"
   ]
  },
  {
   "cell_type": "markdown",
   "metadata": {
    "pycharm": {
     "name": "#%% md\n"
    }
   },
   "source": [
    "![](img/bond_pv.png)"
   ]
  },
  {
   "cell_type": "code",
   "execution_count": 4,
   "metadata": {
    "pycharm": {
     "name": "#%%\n"
    }
   },
   "outputs": [
    {
     "data": {
      "text/markdown": [
       "$ P = \\frac{cN * (1 - (1 + r)^{-n})}{r} + N(1 + r)^{-n} $"
      ],
      "text/plain": [
       "<IPython.core.display.Markdown object>"
      ]
     },
     "execution_count": 4,
     "metadata": {},
     "output_type": "execute_result"
    }
   ],
   "source": [
    "# текущая стоимость облигации\n",
    "\n",
    "def formula(c, N, n, r):\n",
    "    r\"\"\"\n",
    "    $ P = \\frac{cN * (1 - (1 + r)^{-n})}{r} + N(1 + r)^{-n} $\n",
    "    \"\"\"\n",
    "    return c * N * (1 - (1 + r) ** -n) / r + N * (1 + r) ** -n\n",
    "\n",
    "Markdown(formula.__doc__.strip())"
   ]
  },
  {
   "cell_type": "code",
   "execution_count": 5,
   "metadata": {
    "pycharm": {
     "name": "#%%\n"
    }
   },
   "outputs": [
    {
     "data": {
      "text/plain": [
       "3845.7987072945525"
      ]
     },
     "execution_count": 5,
     "metadata": {},
     "output_type": "execute_result"
    }
   ],
   "source": [
    "# а)\n",
    "r = 0.14\n",
    "formula(c, N, n, r)"
   ]
  },
  {
   "cell_type": "code",
   "execution_count": 6,
   "metadata": {
    "pycharm": {
     "name": "#%%\n"
    }
   },
   "outputs": [
    {
     "data": {
      "text/plain": [
       "3500.0"
      ]
     },
     "execution_count": 6,
     "metadata": {},
     "output_type": "execute_result"
    }
   ],
   "source": [
    "# б)\n",
    "r = 0.2\n",
    "formula(c, N, n, r)"
   ]
  },
  {
   "cell_type": "code",
   "execution_count": 7,
   "metadata": {
    "pycharm": {
     "name": "#%%\n"
    }
   },
   "outputs": [
    {
     "data": {
      "text/plain": [
       "3345.231013285743"
      ]
     },
     "execution_count": 7,
     "metadata": {},
     "output_type": "execute_result"
    }
   ],
   "source": [
    "# в)\n",
    "r = 0.23\n",
    "formula(c, N, n, r)"
   ]
  },
  {
   "cell_type": "markdown",
   "metadata": {
    "pycharm": {
     "name": "#%% md\n"
    }
   },
   "source": [
    "![](img/bond_rate.png)"
   ]
  },
  {
   "cell_type": "code",
   "execution_count": 8,
   "metadata": {
    "pycharm": {
     "name": "#%%\n"
    }
   },
   "outputs": [
    {
     "data": {
      "text/markdown": [
       "$ K = \\frac{V}{N} \\cdot 100\\% $"
      ],
      "text/plain": [
       "<IPython.core.display.Markdown object>"
      ]
     },
     "execution_count": 8,
     "metadata": {},
     "output_type": "execute_result"
    }
   ],
   "source": [
    "# курс\n",
    "\n",
    "def formula(V, N):\n",
    "    r\"\"\"\n",
    "    $ K = \\frac{V}{N} \\cdot 100\\% $\n",
    "    \"\"\"\n",
    "    return V / N * 100\n",
    "\n",
    "Markdown(formula.__doc__.strip())"
   ]
  },
  {
   "cell_type": "code",
   "execution_count": 9,
   "metadata": {
    "pycharm": {
     "name": "#%%\n"
    }
   },
   "outputs": [
    {
     "data": {
      "text/plain": [
       "122.85714285714286"
      ]
     },
     "execution_count": 9,
     "metadata": {},
     "output_type": "execute_result"
    }
   ],
   "source": [
    "formula(V, N)"
   ]
  },
  {
   "cell_type": "markdown",
   "metadata": {},
   "source": [
    "### Задание 3\n",
    "\n",
    "Портфель состоит из двух ценных бумаг A и B, ожидаемая доходность и риск которых, выраженные в процентах, равны A(10; 20), B(30; 50). Коэффициент корреляции бумаг равен -1, а его доходность равна 20%. Найти портфель и его риск."
   ]
  },
  {
   "cell_type": "code",
   "execution_count": 10,
   "metadata": {
    "pycharm": {
     "name": "#%%\n"
    }
   },
   "outputs": [],
   "source": [
    "A = Stock(10, 20)\n",
    "B = Stock(30, 50)\n",
    "rho = -1\n",
    "mu = 20"
   ]
  },
  {
   "cell_type": "markdown",
   "metadata": {
    "pycharm": {
     "name": "#%% md\n"
    }
   },
   "source": [
    "![](img/stocks_-1.png)"
   ]
  },
  {
   "cell_type": "code",
   "execution_count": 11,
   "metadata": {
    "pycharm": {
     "name": "#%%\n"
    }
   },
   "outputs": [
    {
     "name": "stdout",
     "output_type": "stream",
     "text": [
      "Stock(mu=10, sigma=20, x=1/2) Stock(mu=30, sigma=50, x=1/2)\n"
     ]
    }
   ],
   "source": [
    "# портфель\n",
    "B.x = 1 - A.x\n",
    "eq = sp.Eq(mu, A.mu * A.x + B.mu * B.x)\n",
    "A.x = sp.solve(eq)[0]\n",
    "B.x = B.x.subs(B.x, A.x)\n",
    "print(A, B)"
   ]
  },
  {
   "cell_type": "code",
   "execution_count": 12,
   "metadata": {
    "pycharm": {
     "name": "#%%\n"
    }
   },
   "outputs": [
    {
     "data": {
      "text/latex": [
       "$\\displaystyle 15$"
      ],
      "text/plain": [
       "15"
      ]
     },
     "execution_count": 12,
     "metadata": {},
     "output_type": "execute_result"
    }
   ],
   "source": [
    "# риск портфеля\n",
    "abs(A.x * A.sigma - B.x * B.sigma)"
   ]
  },
  {
   "cell_type": "markdown",
   "metadata": {},
   "source": [
    "# Билет 29"
   ]
  },
  {
   "cell_type": "markdown",
   "metadata": {
    "pycharm": {
     "name": "#%% md\n"
    }
   },
   "source": [
    "### Задание 2\n",
    "\n",
    "Облигация со сроком погашения 5 лет, купонной ставкой 10% и номиналом 2000 у.е. продается по цене 1900 у.е. Чему равна доходность к погашению облигации?"
   ]
  },
  {
   "cell_type": "code",
   "execution_count": 13,
   "metadata": {
    "pycharm": {
     "name": "#%%\n"
    }
   },
   "outputs": [],
   "source": [
    "# 106\n",
    "n = 5\n",
    "c = 0.1\n",
    "N = 2000\n",
    "V = 1900"
   ]
  },
  {
   "cell_type": "markdown",
   "metadata": {
    "pycharm": {
     "name": "#%% md\n"
    }
   },
   "source": [
    "![](img/bond_i.png)\n",
    "![](img/bond_i_approx.png)"
   ]
  },
  {
   "cell_type": "code",
   "execution_count": 14,
   "metadata": {
    "pycharm": {
     "name": "#%%\n"
    }
   },
   "outputs": [
    {
     "data": {
      "text/markdown": [
       "$ V = \\frac{cN * (1 - (1 + r)^{-n})}{r} + N(1 + r)^{-n} $\n",
       "    <br>\n",
       "    $ K = \\frac{V}{N} $\n",
       "    <br>\n",
       "    $ r \\approx \\frac{2(cn + 1 - K)}{K - 1 + n(1 + K)}, n \\le 10 $\n",
       "    <br>\n",
       "    $ r \\approx \\frac{c}{K} * \\frac{n^2 - K^2}{n^2 - K} $"
      ],
      "text/plain": [
       "<IPython.core.display.Markdown object>"
      ]
     },
     "execution_count": 14,
     "metadata": {},
     "output_type": "execute_result"
    }
   ],
   "source": [
    "def formula(V, c, N, n, strict=False):\n",
    "    r\"\"\"\n",
    "    $ V = \\frac{cN * (1 - (1 + r)^{-n})}{r} + N(1 + r)^{-n} $\n",
    "    <br>\n",
    "    $ K = \\frac{V}{N} $\n",
    "    <br>\n",
    "    $ r \\approx \\frac{2(cn + 1 - K)}{K - 1 + n(1 + K)}, n \\le 10 $\n",
    "    <br>\n",
    "    $ r \\approx \\frac{c}{K} * \\frac{n^2 - K^2}{n^2 - K} $\n",
    "    \"\"\"\n",
    "    r = sp.Symbol('r', real=True, positive=True)\n",
    "    if strict:\n",
    "        return sp.solve(sp.Eq(V, c * N * (1 - (1 + r) ** -n) / r + N * (1 + r) ** -n), r)[0]\n",
    "    K = V / N\n",
    "    if n <= 10:\n",
    "        return 2 * (c * n + 1 - K) / (K - 1 + n * (1 + K))\n",
    "    return c / K * (n ** 2 - K ** 2) / (n ** 2 - K)\n",
    "\n",
    "Markdown(formula.__doc__.strip())"
   ]
  },
  {
   "cell_type": "code",
   "execution_count": 15,
   "metadata": {
    "pycharm": {
     "name": "#%%\n"
    }
   },
   "outputs": [
    {
     "data": {
      "text/plain": [
       "11.34020618556701"
      ]
     },
     "execution_count": 15,
     "metadata": {},
     "output_type": "execute_result"
    }
   ],
   "source": [
    "formula(V, c, N, n) * 100"
   ]
  },
  {
   "cell_type": "markdown",
   "metadata": {
    "pycharm": {
     "name": "#%% md\n"
    }
   },
   "source": [
    "### Задание 3\n",
    "\n",
    "Инвестор занимает длинную позицию по опциону колл и короткую позицию по опциону пут. Цены исполнения опционов X1, X2 соответственно. X1 < X2. Чему равна прибыль инвестора?"
   ]
  },
  {
   "cell_type": "code",
   "execution_count": null,
   "metadata": {
    "pycharm": {
     "name": "#%%\n"
    }
   },
   "outputs": [],
   "source": []
  },
  {
   "cell_type": "markdown",
   "metadata": {},
   "source": [
    "# Билет 4"
   ]
  },
  {
   "cell_type": "markdown",
   "metadata": {
    "pycharm": {
     "name": "#%% md\n"
    }
   },
   "source": [
    "### Задание 2\n",
    "\n",
    "В банк внесен вклад в размере 2400 руб. под 7% годовых по схеме сложных процентов. Подсчитайте величину вклада через три года при начислении процентов: а) 1; б) 4; в) 6; г) 12 раз в году и в случае непрерывного начисления процентов"
   ]
  },
  {
   "cell_type": "code",
   "execution_count": 16,
   "metadata": {
    "pycharm": {
     "name": "#%%\n"
    }
   },
   "outputs": [],
   "source": [
    "S_0 = 2400\n",
    "i = 0.07\n",
    "t = 3"
   ]
  },
  {
   "cell_type": "markdown",
   "metadata": {
    "pycharm": {
     "name": "#%% md\n"
    }
   },
   "source": [
    "![](img/interest_compound.png)"
   ]
  },
  {
   "cell_type": "code",
   "execution_count": 17,
   "metadata": {
    "pycharm": {
     "name": "#%%\n"
    }
   },
   "outputs": [
    {
     "data": {
      "text/markdown": [
       "$ S = S_0 (1 + \\frac{i}{m})^{mt} $"
      ],
      "text/plain": [
       "<IPython.core.display.Markdown object>"
      ]
     },
     "execution_count": 17,
     "metadata": {},
     "output_type": "execute_result"
    }
   ],
   "source": [
    "def formula(S_0, i, t, m):\n",
    "    r\"\"\"\n",
    "    $ S = S_0 (1 + \\frac{i}{m})^{mt} $\n",
    "    \"\"\"\n",
    "    return S_0 * (1 + i / m) ** (m * t)\n",
    "\n",
    "Markdown(formula.__doc__.strip())"
   ]
  },
  {
   "cell_type": "code",
   "execution_count": 18,
   "metadata": {
    "pycharm": {
     "name": "#%%\n"
    }
   },
   "outputs": [
    {
     "data": {
      "text/plain": [
       "2940.1032000000005"
      ]
     },
     "execution_count": 18,
     "metadata": {},
     "output_type": "execute_result"
    }
   ],
   "source": [
    "m = 1\n",
    "formula(S_0, i, t, m)"
   ]
  },
  {
   "cell_type": "code",
   "execution_count": 19,
   "metadata": {
    "pycharm": {
     "name": "#%%\n"
    }
   },
   "outputs": [
    {
     "data": {
      "text/plain": [
       "2955.454355867502"
      ]
     },
     "execution_count": 19,
     "metadata": {},
     "output_type": "execute_result"
    }
   ],
   "source": [
    "m = 4\n",
    "formula(S_0, i, t, m)"
   ]
  },
  {
   "cell_type": "code",
   "execution_count": 20,
   "metadata": {
    "pycharm": {
     "name": "#%%\n"
    }
   },
   "outputs": [
    {
     "data": {
      "text/plain": [
       "2957.230482482114"
      ]
     },
     "execution_count": 20,
     "metadata": {},
     "output_type": "execute_result"
    }
   ],
   "source": [
    "m = 6\n",
    "formula(S_0, i, t, m)"
   ]
  },
  {
   "cell_type": "code",
   "execution_count": 21,
   "metadata": {
    "pycharm": {
     "name": "#%%\n"
    }
   },
   "outputs": [
    {
     "data": {
      "text/plain": [
       "2959.0214099446275"
      ]
     },
     "execution_count": 21,
     "metadata": {},
     "output_type": "execute_result"
    }
   ],
   "source": [
    "m = 12\n",
    "formula(S_0, i, t, m)"
   ]
  },
  {
   "cell_type": "markdown",
   "metadata": {
    "pycharm": {
     "name": "#%% md\n"
    }
   },
   "source": [
    "![](img/intrest_continuous.png)"
   ]
  },
  {
   "cell_type": "code",
   "execution_count": 22,
   "metadata": {
    "pycharm": {
     "name": "#%%\n"
    }
   },
   "outputs": [
    {
     "data": {
      "text/plain": [
       "2960.8273438961837"
      ]
     },
     "execution_count": 22,
     "metadata": {},
     "output_type": "execute_result"
    }
   ],
   "source": [
    "# непрерывные проценты\n",
    "S_0 * np.e ** (i * t)"
   ]
  },
  {
   "cell_type": "markdown",
   "metadata": {
    "pycharm": {
     "name": "#%% md\n"
    }
   },
   "source": [
    "### Задание 3\n",
    "\n",
    "Портфель состоит из двух ценных бумаг A и B, ожидаемая доходность и риск которых, выраженные в процентах, равны A(6; 10), B(20; 40). Коэффициент корреляции бумаг равен 1. Найти портфель максимальной доходности."
   ]
  },
  {
   "cell_type": "code",
   "execution_count": 23,
   "metadata": {
    "pycharm": {
     "name": "#%%\n"
    }
   },
   "outputs": [],
   "source": [
    "A = Stock(6, 10)\n",
    "B = Stock(20, 40)\n",
    "rho = 1  # noqa"
   ]
  },
  {
   "cell_type": "markdown",
   "metadata": {
    "pycharm": {
     "name": "#%% md\n"
    }
   },
   "source": [
    "![](img/stocks_1.png)"
   ]
  },
  {
   "cell_type": "code",
   "execution_count": 24,
   "metadata": {
    "pycharm": {
     "name": "#%%\n"
    }
   },
   "outputs": [
    {
     "name": "stdout",
     "output_type": "stream",
     "text": [
      "Stock(mu=20, sigma=40, x=1)\n"
     ]
    }
   ],
   "source": [
    "# полная корреляция\n",
    "B.x = 1\n",
    "print(B)"
   ]
  },
  {
   "cell_type": "markdown",
   "metadata": {},
   "source": [
    "# Билет 12"
   ]
  },
  {
   "cell_type": "markdown",
   "metadata": {
    "pycharm": {
     "name": "#%% md\n"
    }
   },
   "source": [
    "### Задание 2\n",
    "\n",
    "Пусть процентная ставка потока платежей C = {(-2500; 0), (2000; 1), (3000; 4)} составляет 10%. Найдите приведенную стоимость и наращенную величину этого потока."
   ]
  },
  {
   "cell_type": "code",
   "execution_count": 248,
   "metadata": {
    "pycharm": {
     "name": "#%%\n"
    }
   },
   "outputs": [],
   "source": [
    "C = [-2500, 2000, 0, 0, 3000]\n",
    "i = 0.1"
   ]
  },
  {
   "cell_type": "markdown",
   "metadata": {},
   "source": [
    "![](img/pv.png)"
   ]
  },
  {
   "cell_type": "code",
   "execution_count": 249,
   "metadata": {
    "pycharm": {
     "name": "#%%\n"
    }
   },
   "outputs": [
    {
     "data": {
      "text/plain": "1367.2221842770296"
     },
     "execution_count": 249,
     "metadata": {},
     "output_type": "execute_result"
    }
   ],
   "source": [
    "pv = C[0] / (1 + i) ** 0 + C[1] / (1 + i) ** 1 + C[4] / (1 + i) ** 4\n",
    "pv"
   ]
  },
  {
   "cell_type": "markdown",
   "metadata": {
    "pycharm": {
     "name": "#%% md\n"
    }
   },
   "source": [
    "![](img/fv.png)"
   ]
  },
  {
   "cell_type": "code",
   "execution_count": 250,
   "metadata": {
    "pycharm": {
     "name": "#%%\n"
    }
   },
   "outputs": [
    {
     "data": {
      "text/plain": "2001.75"
     },
     "execution_count": 250,
     "metadata": {},
     "output_type": "execute_result"
    }
   ],
   "source": [
    "fv = C[0] * (1 + i) ** (len(C) - 1 - 0) + C[1] * (1 + i) ** (len(C) - 1 - 1) + C[4] * (1 + i) ** (len(C) - 1 - 4)\n",
    "fv"
   ]
  },
  {
   "cell_type": "markdown",
   "metadata": {
    "pycharm": {
     "name": "#%% md\n"
    }
   },
   "source": [
    "### Задание 3\n",
    "\n",
    "Для портфеля из двух бумаг с доходностью и риском соответственно (0,2; 0,6) и (0,4; 0,9) в случае полной антикорреляции найти портфель нулевого риска и его доходность."
   ]
  },
  {
   "cell_type": "markdown",
   "metadata": {
    "pycharm": {
     "name": "#%% md\n"
    }
   },
   "source": [
    "![](img/stocks_general.png)"
   ]
  },
  {
   "cell_type": "code",
   "execution_count": 28,
   "metadata": {
    "pycharm": {
     "name": "#%%\n"
    }
   },
   "outputs": [],
   "source": [
    "A = Stock(0.2, 0.6, sp.Symbol('x', real=True, positive=True))  # noqa\n",
    "B = Stock(0.4, 0.9)\n",
    "B.x = 1 - A.x\n",
    "rho = -1  # noqa"
   ]
  },
  {
   "cell_type": "markdown",
   "metadata": {
    "pycharm": {
     "name": "#%% md\n"
    }
   },
   "source": [
    "![](img/stocks_-1.png)"
   ]
  },
  {
   "cell_type": "code",
   "execution_count": 29,
   "metadata": {
    "pycharm": {
     "name": "#%%\n"
    }
   },
   "outputs": [
    {
     "name": "stdout",
     "output_type": "stream",
     "text": [
      "Stock(mu=0.2, sigma=0.6, x=0.600000000000000) Stock(mu=0.4, sigma=0.9, x=0.400000000000000)\n"
     ]
    }
   ],
   "source": [
    "A.x = sp.solve(sp.Eq(0, sp.Abs(A.x * A.sigma - B.x * B.sigma)))[0]\n",
    "B.x = 1 - A.x\n",
    "print(A, B)"
   ]
  },
  {
   "cell_type": "code",
   "execution_count": 30,
   "metadata": {
    "pycharm": {
     "name": "#%%\n"
    }
   },
   "outputs": [
    {
     "data": {
      "text/latex": [
       "$\\displaystyle 0.28$"
      ],
      "text/plain": [
       "0.280000000000000"
      ]
     },
     "execution_count": 30,
     "metadata": {},
     "output_type": "execute_result"
    }
   ],
   "source": [
    "A.x * A.mu + B.x * B.mu"
   ]
  },
  {
   "cell_type": "markdown",
   "metadata": {},
   "source": [
    "# Билет 15"
   ]
  },
  {
   "cell_type": "markdown",
   "metadata": {
    "pycharm": {
     "name": "#%% md\n"
    }
   },
   "source": [
    "### Задание 2\n",
    "\n",
    "Рыночная цена 12-ти процентной облигации номиналом 1000 руб. за два года до погашения равна 1200 руб. Найти текущую стоимость облигации при процентной ставке: а) 10%, б) 14%, в) 12% и ее курс."
   ]
  },
  {
   "cell_type": "code",
   "execution_count": 31,
   "metadata": {
    "pycharm": {
     "name": "#%%\n"
    }
   },
   "outputs": [],
   "source": [
    "c = 0.12\n",
    "N = 1000\n",
    "n = 2\n",
    "V = 1200"
   ]
  },
  {
   "cell_type": "markdown",
   "metadata": {
    "pycharm": {
     "name": "#%% md\n"
    }
   },
   "source": [
    "![](img/bond_pv.png)"
   ]
  },
  {
   "cell_type": "code",
   "execution_count": 32,
   "metadata": {
    "pycharm": {
     "name": "#%%\n"
    }
   },
   "outputs": [
    {
     "data": {
      "text/plain": [
       "1034.7107438016528"
      ]
     },
     "execution_count": 32,
     "metadata": {},
     "output_type": "execute_result"
    }
   ],
   "source": [
    "r = 0.1\n",
    "c * N * (1 - (1 + r) ** -n) / r + N * (1 + r) ** -n"
   ]
  },
  {
   "cell_type": "code",
   "execution_count": 33,
   "metadata": {
    "pycharm": {
     "name": "#%%\n"
    }
   },
   "outputs": [
    {
     "data": {
      "text/plain": [
       "967.0667897814712"
      ]
     },
     "execution_count": 33,
     "metadata": {},
     "output_type": "execute_result"
    }
   ],
   "source": [
    "r = 0.14\n",
    "c * N * (1 - (1 + r) ** -n) / r + N * (1 + r) ** -n"
   ]
  },
  {
   "cell_type": "code",
   "execution_count": 34,
   "metadata": {
    "pycharm": {
     "name": "#%%\n"
    }
   },
   "outputs": [
    {
     "data": {
      "text/plain": [
       "1000.0"
      ]
     },
     "execution_count": 34,
     "metadata": {},
     "output_type": "execute_result"
    }
   ],
   "source": [
    "r = 0.12\n",
    "c * N * (1 - (1 + r) ** -n) / r + N * (1 + r) ** -n"
   ]
  },
  {
   "cell_type": "markdown",
   "metadata": {
    "pycharm": {
     "name": "#%% md\n"
    }
   },
   "source": [
    "![](img/bond_rate.png)"
   ]
  },
  {
   "cell_type": "code",
   "execution_count": 35,
   "metadata": {
    "pycharm": {
     "name": "#%%\n"
    }
   },
   "outputs": [
    {
     "data": {
      "text/plain": [
       "120.0"
      ]
     },
     "execution_count": 35,
     "metadata": {},
     "output_type": "execute_result"
    }
   ],
   "source": [
    "V / N * 100"
   ]
  },
  {
   "cell_type": "markdown",
   "metadata": {
    "pycharm": {
     "name": "#%% md\n"
    }
   },
   "source": [
    "### Задание 3\n",
    "\n",
    "Портфель состоит из двух ценных бумаг A и B, ожидаемая доходность и риск которых, выраженные в процентах, равны A(10; 20), B(20; 40). Коэффициент корреляции бумаг равен 0.3. Найти портфель минимального риска, его риск и его доходность."
   ]
  },
  {
   "cell_type": "markdown",
   "metadata": {
    "pycharm": {
     "name": "#%% md\n"
    }
   },
   "source": [
    "![](img/stocks_general.png)"
   ]
  },
  {
   "cell_type": "code",
   "execution_count": 36,
   "metadata": {
    "pycharm": {
     "name": "#%%\n"
    }
   },
   "outputs": [],
   "source": [
    "A = Stock(10, 20)\n",
    "B = Stock(20, 40)\n",
    "rho = 0.3  # noqa\n",
    "B.x = 1 - A.x"
   ]
  },
  {
   "cell_type": "code",
   "execution_count": 37,
   "metadata": {
    "pycharm": {
     "name": "#%%\n"
    }
   },
   "outputs": [
    {
     "data": {
      "text/latex": [
       "$\\displaystyle \\sqrt{400 x^{2} + 480.0 x \\left(1 - x\\right) + 1600 \\left(1 - x\\right)^{2}}$"
      ],
      "text/plain": [
       "sqrt(400*x**2 + 480.0*x*(1 - x) + 1600*(1 - x)**2)"
      ]
     },
     "execution_count": 37,
     "metadata": {},
     "output_type": "execute_result"
    }
   ],
   "source": [
    "sigma = sp.sqrt(A.x ** 2 * A.sigma ** 2 + B.x ** 2 * B.sigma ** 2 + 2 * rho * A.x * A.sigma * B.x * B.sigma, evaluate=False)\n",
    "sigma"
   ]
  },
  {
   "cell_type": "code",
   "execution_count": 38,
   "metadata": {
    "pycharm": {
     "name": "#%%\n"
    }
   },
   "outputs": [
    {
     "data": {
      "text/latex": [
       "$\\displaystyle 0 = \\left(1520.0 x - 1360.0\\right) \\frac{1}{40 \\sqrt{\\frac{x^{2}}{4} + 0.3 x \\left(1 - x\\right) + \\left(1 - x\\right)^{2}}}$"
      ],
      "text/plain": [
       "Eq(0, (1520.0*x - 1360.0)*(1/(40*sqrt(x**2/4 + 0.3*x*(1 - x) + (1 - x)**2))))"
      ]
     },
     "execution_count": 38,
     "metadata": {},
     "output_type": "execute_result"
    }
   ],
   "source": [
    "eq = sp.Eq(0, sp.diff(sigma))\n",
    "eq"
   ]
  },
  {
   "cell_type": "code",
   "execution_count": 39,
   "metadata": {
    "pycharm": {
     "name": "#%%\n"
    }
   },
   "outputs": [
    {
     "name": "stdout",
     "output_type": "stream",
     "text": [
      "Stock(mu=10, sigma=20, x=0.894736842105263) Stock(mu=20, sigma=40, x=0.105263157894737)\n"
     ]
    }
   ],
   "source": [
    "A.x = sp.solve(eq)[0]\n",
    "B.x = 1 - A.x\n",
    "print(A, B)"
   ]
  },
  {
   "cell_type": "code",
   "execution_count": 40,
   "metadata": {
    "pycharm": {
     "name": "#%%\n"
    }
   },
   "outputs": [
    {
     "data": {
      "text/latex": [
       "$\\displaystyle 19.5744193971837$"
      ],
      "text/plain": [
       "19.5744193971837"
      ]
     },
     "execution_count": 40,
     "metadata": {},
     "output_type": "execute_result"
    }
   ],
   "source": [
    "sp.sqrt(A.x ** 2 * A.sigma ** 2 + B.x ** 2 * B.sigma ** 2 + 2 * rho * A.x * A.sigma * B.x * B.sigma)"
   ]
  },
  {
   "cell_type": "code",
   "execution_count": 41,
   "metadata": {
    "pycharm": {
     "name": "#%%\n"
    }
   },
   "outputs": [
    {
     "data": {
      "text/latex": [
       "$\\displaystyle 11.0526315789474$"
      ],
      "text/plain": [
       "11.0526315789474"
      ]
     },
     "execution_count": 41,
     "metadata": {},
     "output_type": "execute_result"
    }
   ],
   "source": [
    "A.x * A.mu + B.x * B.mu"
   ]
  },
  {
   "cell_type": "markdown",
   "metadata": {
    "pycharm": {
     "name": "#%% md\n"
    }
   },
   "source": [
    "![](img/stocks_corr.png)"
   ]
  },
  {
   "cell_type": "code",
   "execution_count": 42,
   "metadata": {
    "pycharm": {
     "name": "#%%\n"
    }
   },
   "outputs": [
    {
     "name": "stdout",
     "output_type": "stream",
     "text": [
      "Stock(mu=10, sigma=20, x=0.8947368421052632) Stock(mu=20, sigma=40, x=0.10526315789473684)\n"
     ]
    }
   ],
   "source": [
    "B.x = (A.sigma ** 2 - rho * A.sigma * B.sigma) / (A.sigma ** 2 + B.sigma ** 2 - 2 * rho * A.sigma * B.sigma)\n",
    "A.x = 1 - B.x\n",
    "print(A, B)"
   ]
  },
  {
   "cell_type": "code",
   "execution_count": 43,
   "metadata": {
    "pycharm": {
     "name": "#%%\n"
    }
   },
   "outputs": [
    {
     "data": {
      "text/plain": [
       "11.052631578947368"
      ]
     },
     "execution_count": 43,
     "metadata": {},
     "output_type": "execute_result"
    }
   ],
   "source": [
    "A.x * A.mu + B.x * B.mu"
   ]
  },
  {
   "cell_type": "code",
   "execution_count": 44,
   "metadata": {
    "pycharm": {
     "name": "#%%\n"
    }
   },
   "outputs": [
    {
     "data": {
      "text/plain": [
       "19.574419397183714"
      ]
     },
     "execution_count": 44,
     "metadata": {},
     "output_type": "execute_result"
    }
   ],
   "source": [
    "np.sqrt(A.x ** 2 * A.sigma ** 2 + B.x ** 2 * B.sigma ** 2 + 2 * rho * A.x * A.sigma * B.x * B.sigma)"
   ]
  },
  {
   "cell_type": "markdown",
   "metadata": {},
   "source": [
    "# Билет 9"
   ]
  },
  {
   "cell_type": "markdown",
   "metadata": {},
   "source": [
    "### Задание 2\n",
    "\n",
    "Найдите простую процентную ставку, эквивалентную сложной ставке в 15% годовых для временного интервала в 5 лет при ежемесячном начислении процентов."
   ]
  },
  {
   "cell_type": "markdown",
   "metadata": {
    "pycharm": {
     "name": "#%% md\n"
    }
   },
   "source": [
    "![](img/bid_eq.png)"
   ]
  },
  {
   "cell_type": "markdown",
   "metadata": {
    "pycharm": {
     "name": "#%% md\n"
    }
   },
   "source": [
    "![](img/bid_eq_1.png)"
   ]
  },
  {
   "cell_type": "code",
   "execution_count": 45,
   "metadata": {
    "pycharm": {
     "name": "#%%\n"
    }
   },
   "outputs": [],
   "source": [
    "i = 0.15\n",
    "t = 5\n",
    "m = 12"
   ]
  },
  {
   "cell_type": "code",
   "execution_count": 46,
   "metadata": {
    "pycharm": {
     "name": "#%%\n"
    }
   },
   "outputs": [
    {
     "data": {
      "text/plain": [
       "22.14362693902471"
      ]
     },
     "execution_count": 46,
     "metadata": {},
     "output_type": "execute_result"
    }
   ],
   "source": [
    "1 / t * ((1 + i / m) ** (m * t) - 1) * 100"
   ]
  },
  {
   "cell_type": "markdown",
   "metadata": {},
   "source": [
    "### Задание 3\n",
    "\n",
    "Портфель состоит из двух ценных бумаг A и B, ожидаемые доходности которых равны 20% и 50%, а ценовые доли относятся как 1:4. Найти портфель и его доходность."
   ]
  },
  {
   "cell_type": "markdown",
   "metadata": {},
   "source": [
    "![](img/stocks_general.png)"
   ]
  },
  {
   "cell_type": "code",
   "execution_count": 47,
   "metadata": {
    "pycharm": {
     "name": "#%%\n"
    }
   },
   "outputs": [],
   "source": [
    "A = Stock(20)\n",
    "B = Stock(50)"
   ]
  },
  {
   "cell_type": "code",
   "execution_count": 48,
   "metadata": {
    "pycharm": {
     "name": "#%%\n"
    }
   },
   "outputs": [
    {
     "name": "stdout",
     "output_type": "stream",
     "text": [
      "Stock(mu=20, sigma=sigma, x=1/5) Stock(mu=50, sigma=sigma, x=4/5)\n"
     ]
    }
   ],
   "source": [
    "A.x = sp.solve(sp.Eq(1, A.x + 4 * A.x))[0]\n",
    "B.x = 1 - A.x\n",
    "print(A, B)"
   ]
  },
  {
   "cell_type": "markdown",
   "metadata": {
    "pycharm": {
     "name": "#%% md\n"
    }
   },
   "source": [
    "A.x * A.mu + B.x * B.mu"
   ]
  },
  {
   "cell_type": "markdown",
   "metadata": {},
   "source": [
    "# Билет 27"
   ]
  },
  {
   "cell_type": "markdown",
   "metadata": {
    "pycharm": {
     "name": "#%% md\n"
    }
   },
   "source": [
    "### Задание 2\n",
    "\n",
    "Дюрация облигации составляет 5 лет. Чему равно относительное процентное изменение цены облигации при увеличении доходности с 7% до 8%?"
   ]
  },
  {
   "cell_type": "markdown",
   "metadata": {
    "pycharm": {
     "name": "#%% md\n"
    }
   },
   "source": [
    "![](img/durr.png)"
   ]
  },
  {
   "cell_type": "code",
   "execution_count": 49,
   "metadata": {
    "pycharm": {
     "name": "#%%\n"
    }
   },
   "outputs": [],
   "source": [
    "D = 5\n",
    "delta_r = 0.08 - 0.07"
   ]
  },
  {
   "cell_type": "code",
   "execution_count": 50,
   "metadata": {
    "pycharm": {
     "name": "#%%\n"
    }
   },
   "outputs": [
    {
     "data": {
      "text/plain": [
       "-4.67289719626168"
      ]
     },
     "execution_count": 50,
     "metadata": {},
     "output_type": "execute_result"
    }
   ],
   "source": [
    "-D / (1 + 0.07) * delta_r * 100"
   ]
  },
  {
   "cell_type": "markdown",
   "metadata": {
    "pycharm": {
     "name": "#%% md\n"
    }
   },
   "source": [
    "### Задание 3\n",
    "\n",
    "Инвестор покупает европейские опционы пут и колл на одни и те же активы с ценами X1 и X2 соответственно. Даты исполнения опционов совпадают. Чему равна прибыль такой стратегии? При каком условии прибыль положительна?"
   ]
  },
  {
   "cell_type": "code",
   "execution_count": null,
   "metadata": {
    "pycharm": {
     "name": "#%%\n"
    }
   },
   "outputs": [],
   "source": []
  },
  {
   "cell_type": "markdown",
   "metadata": {},
   "source": []
  },
  {
   "cell_type": "markdown",
   "metadata": {
    "pycharm": {
     "name": "#%% md\n"
    }
   },
   "source": [
    "### Задание 2\n",
    "\n",
    "При какой годовой процентной ставке сумма увеличится в 3 раза за 10 лет, если проценты начисляются поквартально?"
   ]
  },
  {
   "cell_type": "markdown",
   "metadata": {},
   "source": [
    "![](img/intrest_approx.png)"
   ]
  },
  {
   "cell_type": "code",
   "execution_count": 51,
   "metadata": {
    "pycharm": {
     "name": "#%%\n"
    }
   },
   "outputs": [],
   "source": [
    "N = 3\n",
    "t = 10\n",
    "m = 4"
   ]
  },
  {
   "cell_type": "code",
   "execution_count": 52,
   "metadata": {
    "pycharm": {
     "name": "#%%\n"
    }
   },
   "outputs": [
    {
     "data": {
      "text/plain": [
       "11.139092181115858"
      ]
     },
     "execution_count": 52,
     "metadata": {},
     "output_type": "execute_result"
    }
   ],
   "source": [
    "(t / np.log(N) - 1 / (2 * m)) ** -1 * 100"
   ]
  },
  {
   "cell_type": "markdown",
   "metadata": {
    "pycharm": {
     "name": "#%% md\n"
    }
   },
   "source": [
    "### Задание 3\n",
    "\n",
    "Портфель состоит из двух ценных бумаг A и B, ожидаемые доходности которых равны 20% и 70%, а ценовая доля бумаги A в три раза меньше ценовой доли бумаги. Найти портфель и его доходность."
   ]
  },
  {
   "cell_type": "markdown",
   "metadata": {
    "pycharm": {
     "name": "#%% md\n"
    }
   },
   "source": [
    "![](img/stocks_general.png)"
   ]
  },
  {
   "cell_type": "code",
   "execution_count": 53,
   "metadata": {
    "pycharm": {
     "name": "#%%\n"
    }
   },
   "outputs": [],
   "source": [
    "A = Stock(20)\n",
    "B = Stock(70)"
   ]
  },
  {
   "cell_type": "code",
   "execution_count": 54,
   "metadata": {
    "pycharm": {
     "name": "#%%\n"
    }
   },
   "outputs": [
    {
     "name": "stdout",
     "output_type": "stream",
     "text": [
      "Stock(mu=20, sigma=sigma, x=1/4) Stock(mu=70, sigma=sigma, x=3/4)\n"
     ]
    }
   ],
   "source": [
    "A.x = sp.solve(sp.Eq(1, A.x + 3 * A.x))[0]\n",
    "B.x = 1 - A.x\n",
    "print(A, B)"
   ]
  },
  {
   "cell_type": "code",
   "execution_count": 55,
   "metadata": {
    "pycharm": {
     "name": "#%%\n"
    }
   },
   "outputs": [
    {
     "data": {
      "text/plain": [
       "57.5"
      ]
     },
     "execution_count": 55,
     "metadata": {},
     "output_type": "execute_result"
    }
   ],
   "source": [
    "float(A.x * A.mu + B.x * B.mu)"
   ]
  },
  {
   "cell_type": "markdown",
   "metadata": {},
   "source": [
    "# Билет 11"
   ]
  },
  {
   "cell_type": "markdown",
   "metadata": {},
   "source": [
    "### Задание 2\n",
    "\n",
    "Приведите финансовый поток CF = {(600; 0), (250; 1), (350; 2), (600; 3)} к моменту времени t = 3 при ставке 9%."
   ]
  },
  {
   "cell_type": "markdown",
   "metadata": {},
   "source": [
    "![](img/pv_1.png)"
   ]
  },
  {
   "cell_type": "code",
   "execution_count": 56,
   "metadata": {
    "pycharm": {
     "name": "#%%\n"
    }
   },
   "outputs": [],
   "source": [
    "CF = [600, 250, 350, 600]\n",
    "t = 3\n",
    "i = 0.09"
   ]
  },
  {
   "cell_type": "code",
   "execution_count": 57,
   "metadata": {
    "pycharm": {
     "name": "#%%\n"
    }
   },
   "outputs": [
    {
     "data": {
      "text/plain": [
       "2055.5424000000003"
      ]
     },
     "execution_count": 57,
     "metadata": {},
     "output_type": "execute_result"
    }
   ],
   "source": [
    "CF[0] / (1 + i) ** (0 - t) + CF[1] / (1 + i) ** (1 - t) + CF[2] / (1 + i) ** (2 - t) + CF[3] / (1 + i) ** (3 - t)"
   ]
  },
  {
   "cell_type": "markdown",
   "metadata": {},
   "source": [
    "### Задание 3\n",
    "\n",
    "Портфель состоит из двух ценных бумаг A и B, ожидаемые доходности и риск которых, выраженные в процентах, равны A(10; 30), B(30; 60). Коэффициент корреляции бумаг равен -1, а его доходность равна 25%. Найти портфель минимального риска и его доходность."
   ]
  },
  {
   "cell_type": "code",
   "execution_count": 58,
   "metadata": {
    "pycharm": {
     "name": "#%%\n"
    }
   },
   "outputs": [],
   "source": [
    "A = Stock(10, 30)\n",
    "B = Stock(30, 60)\n",
    "rho = -1\n",
    "mu = 25"
   ]
  },
  {
   "cell_type": "markdown",
   "metadata": {},
   "source": [
    "![](img/stocks_-1.png)"
   ]
  },
  {
   "cell_type": "code",
   "execution_count": 59,
   "metadata": {
    "pycharm": {
     "name": "#%%\n"
    }
   },
   "outputs": [
    {
     "name": "stdout",
     "output_type": "stream",
     "text": [
      "Stock(mu=10, sigma=30, x=1/4) Stock(mu=30, sigma=60, x=3/4)\n"
     ]
    }
   ],
   "source": [
    "# портфель\n",
    "B.x = 1 - A.x\n",
    "eq = sp.Eq(mu, A.mu * A.x + B.mu * B.x)\n",
    "A.x = sp.solve(eq)[0]\n",
    "B.x = 1 - A.x\n",
    "print(A, B)"
   ]
  },
  {
   "cell_type": "code",
   "execution_count": 60,
   "metadata": {
    "pycharm": {
     "name": "#%%\n"
    }
   },
   "outputs": [
    {
     "data": {
      "text/plain": [
       "37.5"
      ]
     },
     "execution_count": 60,
     "metadata": {},
     "output_type": "execute_result"
    }
   ],
   "source": [
    "# риск портфеля\n",
    "float(abs(A.x * A.sigma - B.x * B.sigma))"
   ]
  },
  {
   "cell_type": "markdown",
   "metadata": {},
   "source": [
    "# Билет 3"
   ]
  },
  {
   "cell_type": "markdown",
   "metadata": {},
   "source": [
    "#### Задание 2\n",
    "\n",
    "Вклад на 80 000 руб., открытый в банке на 10 месяцев, принес вкладчику 7000 руб. Под какой простой (сложный) процент годовых был открыт вклад?"
   ]
  },
  {
   "cell_type": "code",
   "execution_count": 61,
   "metadata": {
    "pycharm": {
     "name": "#%%\n"
    }
   },
   "outputs": [],
   "source": [
    "S_0 = 80000\n",
    "S = S_0 + 7000\n",
    "i = sp.Symbol('i', real=True, positive=True)\n",
    "t = 10 / 12"
   ]
  },
  {
   "cell_type": "code",
   "execution_count": 62,
   "metadata": {
    "pycharm": {
     "name": "#%%\n"
    }
   },
   "outputs": [
    {
     "data": {
      "text/latex": [
       "$\\displaystyle 10.5$"
      ],
      "text/plain": [
       "10.5000000000000"
      ]
     },
     "execution_count": 62,
     "metadata": {},
     "output_type": "execute_result"
    }
   ],
   "source": [
    "sp.solve(sp.Eq(S, S_0 * (1 + i * t)))[0] * 100"
   ]
  },
  {
   "cell_type": "code",
   "execution_count": 63,
   "metadata": {
    "pycharm": {
     "name": "#%%\n"
    }
   },
   "outputs": [
    {
     "data": {
      "text/latex": [
       "$\\displaystyle 10.5898117403332$"
      ],
      "text/plain": [
       "10.5898117403332"
      ]
     },
     "execution_count": 63,
     "metadata": {},
     "output_type": "execute_result"
    }
   ],
   "source": [
    "sp.solve(sp.Eq(S, S_0 * (1 + i) ** t))[0] * 100"
   ]
  },
  {
   "cell_type": "markdown",
   "metadata": {},
   "source": [
    "### Задание 3\n",
    "\n",
    "Портфель состоит из двух ценных бумаг A и B, ожидаемые доходности и риск которых, выраженные в процентах, равны A(6; 10), B(20; 40). Коэффициент корреляции бумаг равен 1. Найти портфель минимального риска."
   ]
  },
  {
   "cell_type": "markdown",
   "metadata": {
    "pycharm": {
     "name": "#%% md\n"
    }
   },
   "source": [
    "![](img/stocks_1.png)"
   ]
  },
  {
   "cell_type": "code",
   "execution_count": 64,
   "metadata": {
    "pycharm": {
     "name": "#%%\n"
    }
   },
   "outputs": [],
   "source": [
    "A = Stock(6, 10)\n",
    "B = Stock(20, 40)\n",
    "rho = 1  # noqa"
   ]
  },
  {
   "cell_type": "code",
   "execution_count": 65,
   "metadata": {
    "pycharm": {
     "name": "#%%\n"
    }
   },
   "outputs": [
    {
     "name": "stdout",
     "output_type": "stream",
     "text": [
      "Stock(mu=6, sigma=10, x=1)\n"
     ]
    }
   ],
   "source": [
    "# полная корреляция\n",
    "A.x = 1\n",
    "print(A)"
   ]
  },
  {
   "cell_type": "markdown",
   "metadata": {},
   "source": [
    "# Билет _"
   ]
  },
  {
   "cell_type": "markdown",
   "metadata": {},
   "source": [
    "#### Задание 2\n",
    "\n",
    "Облигация продается по номинальной ставке со сроком погашения 10 лет и купонной ставкой 12%. Чему равна дюрация облигации, выраженная в годах?"
   ]
  },
  {
   "cell_type": "markdown",
   "metadata": {},
   "source": [
    "![](img/bond_durr.png)"
   ]
  },
  {
   "cell_type": "code",
   "execution_count": 66,
   "metadata": {
    "pycharm": {
     "name": "#%%\n"
    }
   },
   "outputs": [],
   "source": [
    "n = 10\n",
    "c = 0.12"
   ]
  },
  {
   "cell_type": "code",
   "execution_count": 67,
   "metadata": {
    "pycharm": {
     "name": "#%%\n"
    }
   },
   "outputs": [
    {
     "data": {
      "text/plain": [
       "6.328249791820171"
      ]
     },
     "execution_count": 67,
     "metadata": {},
     "output_type": "execute_result"
    }
   ],
   "source": [
    "(1 + c) / c * (1 - (1 + c) ** -n)"
   ]
  },
  {
   "cell_type": "markdown",
   "metadata": {},
   "source": [
    "#### Задание 3\n",
    "\n",
    "Портфель состоит из двух бумаг A и B. Ожидаемые доходности равны 0.5 и 0.8, а риски 0.2 и 0.6. Коэффициент корреляции равен нулю. Найти портфель минимального риска и его доходность."
   ]
  },
  {
   "cell_type": "markdown",
   "metadata": {
    "pycharm": {
     "name": "#%% md\n"
    }
   },
   "source": [
    "![](img/stocks_0.png)"
   ]
  },
  {
   "cell_type": "markdown",
   "metadata": {
    "pycharm": {
     "name": "#%% md\n"
    }
   },
   "source": [
    "![](img/stocks_00.png)"
   ]
  },
  {
   "cell_type": "code",
   "execution_count": 68,
   "metadata": {
    "pycharm": {
     "name": "#%%\n"
    }
   },
   "outputs": [],
   "source": [
    "A = Stock(0.5, 0.2)\n",
    "B = Stock(0.8, 0.6)  # noqa"
   ]
  },
  {
   "cell_type": "code",
   "execution_count": 69,
   "metadata": {
    "pycharm": {
     "name": "#%%\n"
    }
   },
   "outputs": [
    {
     "name": "stdout",
     "output_type": "stream",
     "text": [
      "Stock(mu=0.5, sigma=0.2, x=0.8999999999999999) Stock(mu=0.8, sigma=0.6, x=0.10000000000000009)\n"
     ]
    }
   ],
   "source": [
    "A.x = B.sigma ** 2 / (A.sigma ** 2 + B.sigma ** 2)\n",
    "B.x = 1 - A.x\n",
    "print(A, B)"
   ]
  },
  {
   "cell_type": "code",
   "execution_count": 70,
   "metadata": {
    "pycharm": {
     "name": "#%%\n"
    }
   },
   "outputs": [
    {
     "data": {
      "text/plain": [
       "0.53"
      ]
     },
     "execution_count": 70,
     "metadata": {},
     "output_type": "execute_result"
    }
   ],
   "source": [
    "A.x * A.mu + B.x * B.mu"
   ]
  },
  {
   "cell_type": "markdown",
   "metadata": {},
   "source": [
    "# Билет 25"
   ]
  },
  {
   "cell_type": "markdown",
   "metadata": {},
   "source": [
    "#### Задание 2\n",
    "\n",
    "Облигация со сроком погашения 10 лет и купонной ставкой 10% имеет доходность к погашению 8%. Чему равна дюрация облигации, выраженная в годах?"
   ]
  },
  {
   "cell_type": "markdown",
   "metadata": {},
   "source": [
    "![](img/bond_durr_main.png)"
   ]
  },
  {
   "cell_type": "code",
   "execution_count": 71,
   "metadata": {
    "pycharm": {
     "name": "#%%\n"
    }
   },
   "outputs": [],
   "source": [
    "n = 10\n",
    "c = 0.1\n",
    "p = 0.08"
   ]
  },
  {
   "cell_type": "code",
   "execution_count": 72,
   "metadata": {
    "pycharm": {
     "name": "#%%\n"
    }
   },
   "outputs": [
    {
     "data": {
      "text/plain": [
       "6.965803939497359"
      ]
     },
     "execution_count": 72,
     "metadata": {},
     "output_type": "execute_result"
    }
   ],
   "source": [
    "(1 + p) / p - (n * (c - p) + 1 + p) / (c * ((1 + p) ** n - 1) + p)"
   ]
  },
  {
   "cell_type": "markdown",
   "metadata": {},
   "source": [
    "#### Задание 3\n",
    "\n",
    "Инвестор покупает европейские опционы пут и колл на одни и те же активы с ценой исполнения X. Даты исполнения опционов совпадают. Чему равна прибыль такой стратегии? При каком условии прибыль положительна?"
   ]
  },
  {
   "cell_type": "code",
   "execution_count": null,
   "metadata": {
    "pycharm": {
     "name": "#%%\n"
    }
   },
   "outputs": [],
   "source": []
  }
 ],
 "metadata": {
  "kernelspec": {
   "display_name": "Python 3 (ipykernel)",
   "language": "python",
   "name": "python3"
  },
  "language_info": {
   "codemirror_mode": {
    "name": "ipython",
    "version": 3
   },
   "file_extension": ".py",
   "mimetype": "text/x-python",
   "name": "python",
   "nbconvert_exporter": "python",
   "pygments_lexer": "ipython3",
   "version": "3.9.7"
  }
 },
 "nbformat": 4,
 "nbformat_minor": 1
}